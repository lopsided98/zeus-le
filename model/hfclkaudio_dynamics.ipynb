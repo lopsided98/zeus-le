{
 "cells": [
  {
   "cell_type": "markdown",
   "id": "5316c928-f005-42f6-8f7e-2279b5fd7e6a",
   "metadata": {},
   "source": [
    "# Characterize dynamics of HFCLKAUDIO\n",
    "\n",
    "Use an oscilloscope to capture the dynamics of the HFCLKAUDIO PLL when the frequency is changed. The nRF53 was configured with I2S MCLK bypass mode to output the raw HFCLKAUDIO to a pin. It would periodically step the frequency up and down by a 1000 steps. This is a much larger step than you are supposed to use, but it seems to work fine, although the dynamics may vary with step size if the PLL is not perfectly linear. Additionally, toggle a GPIO each time the frequency is changed to provide a trigger input for the scope. I used a 100 MHz / 1 GSa/s Rigol DS1102E to capture the data, so this limited my ability to observe smaller step changes. Even at 1000 steps, I had to use this notebook to combine many measurements and filter out the noise.\n",
    "\n",
    "I used `hfclkaudio_capture.py` to automate data collection from the scope. That script does most of the configuration of the scope and will repeatedly capture step waveforms.\n",
    "\n",
    "Misc notes:\n",
    "* Might want to increase pin drive strength\n",
    "* I accidentally used a 1X probe to collect my data, so this code assumes rather slow transitions. In particular, the quadratic curve fitting might not work well or be necessary with a nice sharp edge. On the other hand, the gradual transition may increase the effective time resolution of the scope.\n",
    "\n",
    "In the end, this whole exercise was pretty useless because the dynamics damp out very quickly relative to the controller period and can therefore be ignored."
   ]
  },
  {
   "cell_type": "code",
   "execution_count": null,
   "id": "745fbdc6-a4b3-49c6-b16e-c3a717540fd8",
   "metadata": {},
   "outputs": [],
   "source": [
    "%matplotlib widget\n",
    "import glob\n",
    "import numpy as np\n",
    "import scipy.signal\n",
    "import matplotlib.pyplot as plt\n",
    "\n",
    "plt.close(\"all\")"
   ]
  },
  {
   "cell_type": "code",
   "execution_count": null,
   "id": "55ed9cc7-c38e-4372-9a34-fb46d2e3195b",
   "metadata": {},
   "outputs": [],
   "source": [
    "# Load data captured from scope\n",
    "def load_data(file):\n",
    "    data = np.load(file)\n",
    "\n",
    "    time = data[0, :]\n",
    "    volts = data[1, :]\n",
    "\n",
    "    # Remove data before trigger\n",
    "    after_trigger = time >= 0\n",
    "    time = time[after_trigger]\n",
    "    volts = volts[after_trigger]\n",
    "\n",
    "    return time, volts\n",
    "\n",
    "\n",
    "# Split data at each transition point (local min/max)\n",
    "def split_transitions(time, volts):\n",
    "    peaks, _ = scipy.signal.find_peaks(volts, prominence=0.25, distance=50)\n",
    "    troughs, _ = scipy.signal.find_peaks(-volts, prominence=0.25, distance=50)\n",
    "    splits = np.concatenate((peaks, troughs))\n",
    "    splits.sort()\n",
    "\n",
    "    time_segments = np.split(time, splits)\n",
    "    volts_segments = np.split(volts, splits)\n",
    "\n",
    "    return time_segments, volts_segments\n",
    "\n",
    "\n",
    "# Clip top and bottom of each transition and then fit a quadratic to the remaining data. Calculate the intersection point of this quadratic with a threshold line.\n",
    "def crossing_time(t, v, thresh, clip=0.1):\n",
    "    v_min = np.min(v)\n",
    "    v_max = np.max(v)\n",
    "    v_pkpk = v_max - v_min\n",
    "    clipped = (v > (v_min + v_pkpk * clip)) & (v < (v_max - v_pkpk * clip))\n",
    "    clip_index = np.where(np.diff(np.hstack(([False], clipped, [False]))))[0]\n",
    "    t = t[clip_index[0] : clip_index[1]]\n",
    "    v = v[clip_index[0] : clip_index[1]]\n",
    "\n",
    "    a, b, c = np.polyfit(t, v, 2)\n",
    "    v_fit = a * t * t + b * t + c\n",
    "\n",
    "    pm_term = np.sqrt(b * b - 4 * a * (c - thresh))\n",
    "    if b > 0:\n",
    "        t_thresh = (-b + pm_term) / (2 * a)\n",
    "    else:\n",
    "        t_thresh = (-b - pm_term) / (2 * a)\n",
    "\n",
    "    return t_thresh\n",
    "\n",
    "\n",
    "# Use the threshold crossings to measure the period of each cycle\n",
    "def cycle_periods(time_segments, volts_segments):\n",
    "    threshold = 3.3 / 2\n",
    "    crossings = []\n",
    "    # Skip first and last segment because they are usually incomplete\n",
    "    for time_segment, volts_segment in zip(\n",
    "        time_segments[1:-1:2], volts_segments[1:-1:2]\n",
    "    ):\n",
    "        crossings.append(crossing_time(time_segment, volts_segment, threshold))\n",
    "    crossings = np.array(crossings)\n",
    "    return crossings[:-1], np.diff(crossings)"
   ]
  },
  {
   "cell_type": "code",
   "execution_count": null,
   "id": "f98359c2-8810-4fb6-8f5b-e9c4a02cfc21",
   "metadata": {},
   "outputs": [],
   "source": [
    "time, volts = load_data(\"../../data/hclkaudio_step/step_1000_33.npy\")\n",
    "\n",
    "fig, ax = plt.subplots()\n",
    "ax.plot(time, volts)"
   ]
  },
  {
   "cell_type": "code",
   "execution_count": null,
   "id": "e104f477-72e3-4e9c-b6ac-d2ec1f856ac5",
   "metadata": {},
   "outputs": [],
   "source": [
    "files = list(glob.glob(\"../../data/hclkaudio_step/step_1000_*.npy\"))\n",
    "\n",
    "t = np.linspace(0, 1.4e-5, 1000)\n",
    "\n",
    "step_up_periods = []\n",
    "step_down_periods = []\n",
    "for i, file in enumerate(files):\n",
    "    time, volts = load_data(file)\n",
    "    time_segments, volts_segments = split_transitions(time, volts)\n",
    "    cycle_time, cycle_period = cycle_periods(time_segments, volts_segments)\n",
    "    # Determine step direction by fitting a line and checking slope\n",
    "    slope, _ = np.polyfit(cycle_time, cycle_period, 1)\n",
    "\n",
    "    cycle_period_interp = np.interp(t, cycle_time, cycle_period)\n",
    "    if slope < 0:\n",
    "        step_up_periods.append(cycle_period_interp)\n",
    "    else:\n",
    "        step_down_periods.append(cycle_period_interp)\n",
    "\n",
    "periods = np.mean(step_up_periods, axis=0)\n",
    "freq = 1 / periods\n",
    "\n",
    "fig, ax = plt.subplots()\n",
    "ax.plot(t, freq / 1e6);"
   ]
  },
  {
   "cell_type": "markdown",
   "id": "1b013559-2446-463d-bfa9-09b836dbca7a",
   "metadata": {},
   "source": [
    "A second order model is close but not perfect. There are clearly some higher order components or non-linearities."
   ]
  },
  {
   "cell_type": "code",
   "execution_count": null,
   "id": "ed50f575-c7c6-469c-b8a8-aaefa7a0c129",
   "metadata": {},
   "outputs": [],
   "source": [
    "def u_to_f(u):\n",
    "    return 32e6 / 12 * (4 + u * 2**-16)\n",
    "\n",
    "\n",
    "u_0 = 15309\n",
    "u_step = 1000\n",
    "k = 32e6 / 12 * 2**-16\n",
    "f_0 = u_to_f(u_0)\n",
    "f_ss = f_0 + u_step * k\n",
    "f_peak = 11.3437e6\n",
    "\n",
    "mp = (f_peak - f_ss) / (f_ss - f_0)\n",
    "zeta = -np.log(mp) / np.sqrt(np.pi**2 + np.log(mp) ** 2)\n",
    "omega_n = 180e3 * 2 * np.pi\n",
    "\n",
    "# State space form\n",
    "A = np.array([[0, 1, 0], [0, 0, 1], [0, -(omega_n**2), -2 * zeta * omega_n]])\n",
    "B = np.array([[0], [0], [omega_n**2 * k]])\n",
    "C = np.array([[0, 1, 0]])\n",
    "D = np.array([[0]])\n",
    "sys = scipy.signal.StateSpace(A, B, C, D)\n",
    "\n",
    "# Alternative, transfer function form\n",
    "# sys = scipy.signal.TransferFunction([k * omega_n**2], [1, 2 * zeta * omega_n, omega_n**2])\n",
    "\n",
    "u = np.heaviside(t - 0.1e-5, 0) * u_step\n",
    "tout, y, x = scipy.signal.lsim(sys, u, t)\n",
    "\n",
    "fig, ax = plt.subplots()\n",
    "ax.plot(t, y + f_0, t, freq)\n",
    "ax.legend((\"Model\", \"Data\"))\n",
    "display(mp)"
   ]
  },
  {
   "cell_type": "markdown",
   "id": "9e013b01-9324-47ee-b791-8e10d216d63c",
   "metadata": {},
   "source": [
    "The controller runs at 10 Hz (100 ms), while the dynamics are fully damped in <10 us. Therefore they are basically irrelevant in the discretized model."
   ]
  },
  {
   "cell_type": "code",
   "execution_count": null,
   "id": "d79c1c9c-13a8-4a3b-a429-8fda04ae50cb",
   "metadata": {},
   "outputs": [],
   "source": [
    "sys.to_discrete(0.1)"
   ]
  }
 ],
 "metadata": {
  "kernelspec": {
   "display_name": "Python 3 (ipykernel)",
   "language": "python",
   "name": "python3"
  },
  "language_info": {
   "codemirror_mode": {
    "name": "ipython",
    "version": 3
   },
   "file_extension": ".py",
   "mimetype": "text/x-python",
   "name": "python",
   "nbconvert_exporter": "python",
   "pygments_lexer": "ipython3",
   "version": "3.11.6"
  }
 },
 "nbformat": 4,
 "nbformat_minor": 5
}
