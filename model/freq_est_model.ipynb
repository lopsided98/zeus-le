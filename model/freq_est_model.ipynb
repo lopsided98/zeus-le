{
 "cells": [
  {
   "cell_type": "markdown",
   "id": "1bad6085-7f57-4f10-bdb8-f2a681caeaf9",
   "metadata": {},
   "source": [
    "# Oscillator frequency error estimator model\n",
    "\n",
    "A Kalman filter to estimate and phase and frequency error between two oscillators using a constant velocity (constant frequency) model. Sympy is used to compute simplified equations for this specific system, rather than using matrix operations."
   ]
  },
  {
   "cell_type": "code",
   "execution_count": null,
   "id": "403bf8a4-71dd-4808-aeda-67bc62d14e1a",
   "metadata": {},
   "outputs": [],
   "source": [
    "from sympy import *"
   ]
  },
  {
   "cell_type": "code",
   "execution_count": null,
   "id": "fb38ade7-4f89-4264-86ee-4e4384528591",
   "metadata": {},
   "outputs": [],
   "source": [
    "dt = Symbol('\\Delta t')\n",
    "A = Matrix([[1, dt], [0, 1]])\n",
    "C = Matrix([[1, 0]])\n",
    "\n",
    "var('q_theta q_f r')\n",
    "Q = Matrix.diag([q_theta, q_f])\n",
    "R = Matrix.eye(1) * r\n",
    "\n",
    "I = Matrix.eye(2)\n",
    "var('theta f')\n",
    "x = Matrix([[theta], [f]])\n",
    "var('p00 p01 p10 p11')\n",
    "P = Matrix([[p00, p01], [p10, p11]])"
   ]
  },
  {
   "cell_type": "markdown",
   "id": "674a869b-d763-4029-8091-400b5da6c957",
   "metadata": {},
   "source": [
    "### Predict\n",
    "\n",
    "First, propagate forward the state:\n",
    "$$\\mathbf{x}_{k|k-1} = \\textbf{A} \\mathbf{x}_k$$"
   ]
  },
  {
   "cell_type": "code",
   "execution_count": null,
   "id": "5d1031de-5c94-411d-8411-e173c9dd4bb7",
   "metadata": {},
   "outputs": [],
   "source": [
    "x_kkm1 = A @ x\n",
    "display(x_kkm1)"
   ]
  },
  {
   "cell_type": "markdown",
   "id": "84973fa7-d471-483c-af4a-0001c8b6e5d1",
   "metadata": {},
   "source": [
    "Then, propagate the covariance:\n",
    "$$\\mathbf{P}_{k|k-1} = \\mathbf{A} \\mathbf{P}_{k-1|k-1} \\mathbf{A}^\\mathsf{T} + \\Delta t^2\\mathbf{Q}$$"
   ]
  },
  {
   "cell_type": "code",
   "execution_count": null,
   "id": "cef42d8b-7125-461e-92b6-082b05390dd9",
   "metadata": {},
   "outputs": [],
   "source": [
    "P_kkm1 = (A @ P @ A.T + Q * dt**2)\n",
    "display(P_kkm1)"
   ]
  },
  {
   "cell_type": "markdown",
   "id": "6d5f2ebc-8feb-4bbd-ab76-e4caf5a1043d",
   "metadata": {},
   "source": [
    "Compute the Kalman gain:\n",
    "$$\\mathbf{K}_k = \\mathbf{P}_{k|k-1} \\mathbf{C}^\\mathsf{T} \\left(\\mathbf{C} \\mathbf{P}_{k|k-1} \\mathbf{C}^\\mathsf{T} + \\mathbf{R}\\right)$$"
   ]
  },
  {
   "cell_type": "code",
   "execution_count": null,
   "id": "0b7a87dd-7708-435d-816f-7dbfd473f85c",
   "metadata": {},
   "outputs": [],
   "source": [
    "K = P @ C.T @ (C @ P @ C.T + R).inv()\n",
    "display(K)"
   ]
  },
  {
   "cell_type": "markdown",
   "id": "b0b7b300-6cf1-4d20-8f4e-1fc2405176b4",
   "metadata": {},
   "source": [
    "Update state:\n",
    "$$\\mathbf{x}_{k|k} = \\mathbf{K}(\\mathbf{z} - \\mathbf{C} \\mathbf{x})$$"
   ]
  },
  {
   "cell_type": "code",
   "execution_count": null,
   "id": "ac0481e9-279d-4594-ba2c-8ba688b5f07d",
   "metadata": {},
   "outputs": [],
   "source": [
    "var('theta_m')\n",
    "K = Matrix([[k0], [k1]])\n",
    "z = Matrix([[theta_m]])\n",
    "x_kk = x + K @ (z - C @ x)\n",
    "display(x_kk)"
   ]
  },
  {
   "cell_type": "markdown",
   "id": "47db690b-fb4d-459f-a413-91c8a2b788aa",
   "metadata": {},
   "source": [
    "Update covariance:\n",
    "$$\\mathbf{P}_{k|k} = (\\mathbf{I} - \\mathbf{K}_k \\mathbf{C}) \\mathbf{P}_{k|k-1} (\\mathbf{I} - \\mathbf{K}_k \\mathbf{C})^\\mathsf{T} + \\mathbf{K}_k \\mathbf{R} \\mathbf{K}_k^\\mathsf{T}$$"
   ]
  },
  {
   "cell_type": "code",
   "execution_count": null,
   "id": "ade95d33-898a-41a1-ae1a-afe268ce4c3a",
   "metadata": {},
   "outputs": [],
   "source": [
    "P_kk = ((Matrix.eye(2) - K @ C) @ P @ (Matrix.eye(2) - K @ C).T + K @ R @ K.T).applyfunc(simplify)\n",
    "display(P_kk)"
   ]
  },
  {
   "cell_type": "markdown",
   "id": "30aff7b5-221d-4ad7-816a-95fd7ee883d3",
   "metadata": {},
   "source": [
    "Substitute to simplify:"
   ]
  },
  {
   "cell_type": "code",
   "execution_count": null,
   "id": "f0e0cb8f-5289-4bd9-ae03-c947a166cfe2",
   "metadata": {},
   "outputs": [],
   "source": [
    "P_kk.subs(K[0], k0).subs(K[1], k1)"
   ]
  }
 ],
 "metadata": {
  "kernelspec": {
   "display_name": "Python 3 (ipykernel)",
   "language": "python",
   "name": "python3"
  },
  "language_info": {
   "codemirror_mode": {
    "name": "ipython",
    "version": 3
   },
   "file_extension": ".py",
   "mimetype": "text/x-python",
   "name": "python",
   "nbconvert_exporter": "python",
   "pygments_lexer": "ipython3",
   "version": "3.11.6"
  }
 },
 "nbformat": 4,
 "nbformat_minor": 5
}
