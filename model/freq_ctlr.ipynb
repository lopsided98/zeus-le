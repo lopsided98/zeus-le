{
 "cells": [
  {
   "cell_type": "markdown",
   "id": "14766125-8827-43a2-b77d-30cc01f39dba",
   "metadata": {},
   "source": [
    "# HFCLKAUDIO LQR frequency controller model and simulation"
   ]
  },
  {
   "cell_type": "code",
   "execution_count": null,
   "id": "5f66957d-e8b5-48e4-b26a-5fabff99bd37",
   "metadata": {},
   "outputs": [],
   "source": [
    "%matplotlib widget\n",
    "import numpy as np\n",
    "import scipy.signal\n",
    "import matplotlib.pyplot as plt\n",
    "\n",
    "plt.close(\"all\")\n",
    "# We use overflow intentionally\n",
    "np.seterr(over=\"ignore\");"
   ]
  },
  {
   "cell_type": "markdown",
   "id": "8f235aa6-9f0a-485b-8a81-7f3a6391864c",
   "metadata": {},
   "source": [
    "Model where input is applied incrementally, and changes in frequency take effect instantly. Characterization of the PLL (see `hfclkaudio_dynamics.ipynb`) shows that this is a good approximation because the dynamics damp out in <10us."
   ]
  },
  {
   "cell_type": "code",
   "execution_count": null,
   "id": "3a59cba4-6c27-40b4-9f3d-4822429f60b1",
   "metadata": {},
   "outputs": [],
   "source": [
    "dt = 0.1\n",
    "# Scale the gain by 2^32 because the frequency ratio is scaled likewise\n",
    "k_u = 2**32 * 32e6 / (12 * 2**16 * 11289600)\n",
    "A = np.array([[1, dt], [0, 1]])\n",
    "B = np.array([[dt * k_u], [k_u]])\n",
    "C = np.array([[1, 0]])\n",
    "D = np.array([[0]])\n",
    "sys = scipy.signal.StateSpace(A, B, C, D, dt=dt)\n",
    "display(sys)\n",
    "\n",
    "u_step = 10\n",
    "t = np.arange(0, 1, dt)\n",
    "u = np.zeros_like(t)\n",
    "u[2] = u_step\n",
    "t, y, x = scipy.signal.dlsim(sys, u)\n",
    "\n",
    "fig, ax = plt.subplots()\n",
    "ax.plot(t, y)\n",
    "display(k_u)"
   ]
  },
  {
   "cell_type": "markdown",
   "id": "d971c1a3-d51f-4ac6-a507-f9f530e913ad",
   "metadata": {},
   "source": [
    "Compute the LQR feedback for the system"
   ]
  },
  {
   "cell_type": "code",
   "execution_count": null,
   "id": "7f140d2c-b2d7-4896-a80e-fecda87a3a6e",
   "metadata": {},
   "outputs": [],
   "source": [
    "# From: https://github.com/modestyachts/robust-control-from-vision/blob/be9ae48f78cbf6fa2a12d13f0df6784e1ede9039/lqr.py#L5-L11\n",
    "def optimal_k(A, B, R, P):\n",
    "    return scipy.linalg.inv(B.T.dot(P).dot(B) + R).dot(B.T.dot(P).dot(A))\n",
    "\n",
    "\n",
    "def lqr_inf_horizon(A, B, Q, R):\n",
    "    P = scipy.linalg.solve_discrete_are(A, B, Q, R)\n",
    "    K = optimal_k(A, B, R, P)\n",
    "    return K, P\n",
    "\n",
    "\n",
    "Q = np.diag([1.0, 1e-3])\n",
    "R = np.array([[5.0]])\n",
    "\n",
    "K, _ = lqr_inf_horizon(sys.A, sys.B, Q, R)\n",
    "display(K)"
   ]
  },
  {
   "cell_type": "markdown",
   "id": "5b98e958-fc80-4e4f-8e27-92c63b00b032",
   "metadata": {},
   "source": [
    "Simulation of controller"
   ]
  },
  {
   "cell_type": "code",
   "execution_count": null,
   "id": "43f5c9e8-cc06-4a6d-9b1f-eb420f681e00",
   "metadata": {},
   "outputs": [],
   "source": [
    "PHASE_FRAC = np.uint64(1 << 32)\n",
    "\n",
    "\n",
    "def qu32_32_from_int(ticks: np.uint32) -> np.uint64:\n",
    "    return np.uint64(ticks) << np.uint8(32)\n",
    "\n",
    "\n",
    "def phase_add_float(theta: np.uint64, inc: np.float32) -> np.uint64:\n",
    "    if inc >= 0:\n",
    "        theta += np.uint64(inc)\n",
    "    else:\n",
    "        theta -= np.uint64(-inc)\n",
    "    return np.uint64(theta)\n",
    "\n",
    "\n",
    "def phase_diff_signed(a: np.uint64, b: np.uint64) -> np.int64:\n",
    "    return np.int64(np.uint64(a - b))\n",
    "\n",
    "\n",
    "def freq_ctlr(t, nominal_freq, k_u, k_theta, k_f, max_step, theta_0, f_0):\n",
    "    last_time = np.uint64(0)\n",
    "\n",
    "    t *= nominal_freq\n",
    "    u = np.empty(t.shape[0], dtype=np.int16)\n",
    "    theta = np.empty(t.shape[0], dtype=np.uint64)\n",
    "    f = np.empty(t.shape[0], dtype=np.float32)\n",
    "\n",
    "    target_theta = np.uint64(0)\n",
    "\n",
    "    for i, local_time in enumerate(t):\n",
    "        if i == 0:\n",
    "            u[i] = 0\n",
    "            theta[i] = theta_0\n",
    "            f[i] = f_0 * PHASE_FRAC\n",
    "            last_time = local_time\n",
    "            continue\n",
    "\n",
    "        dt = (local_time - last_time).astype(np.float32) / PHASE_FRAC\n",
    "        last_time = local_time\n",
    "\n",
    "        u_scaled = u[i - 1].astype(np.float32) * k_u\n",
    "        theta[i] = phase_add_float(theta[i - 1], dt * (f[i - 1] + u_scaled))\n",
    "        f[i] = f[i - 1] + u_scaled\n",
    "\n",
    "        theta_err = phase_diff_signed(target_theta, theta[i]).astype(np.float32)\n",
    "        f_err = -f[i]\n",
    "        u_unclipped = np.round(k_theta * theta_err + k_f * f_err)\n",
    "        u[i] = np.clip(u_unclipped, -max_step, max_step).astype(np.uint16)\n",
    "\n",
    "    # Convert internal representations to meaningful units\n",
    "    t = t.astype(np.float64) / nominal_freq\n",
    "    theta = phase_diff_signed(theta, 0).astype(np.float64) / PHASE_FRAC\n",
    "    f /= PHASE_FRAC\n",
    "\n",
    "    return t, theta, f, u"
   ]
  },
  {
   "cell_type": "code",
   "execution_count": null,
   "id": "3d2bb89f-27ee-4eec-a83d-0ad901e7b3e3",
   "metadata": {},
   "outputs": [],
   "source": [
    "nominal_freq = np.float32(16e6)\n",
    "q_theta = np.float32(0)\n",
    "q_f = np.float32(256)\n",
    "r = np.float32(390625)\n",
    "k_theta = K[0, 0]\n",
    "k_f = K[0, 1]\n",
    "max_step = 1000\n",
    "theta_0 = 0\n",
    "f_0 = 1e-5\n",
    "\n",
    "t = np.arange(0, 100, dt, dtype=np.float64)\n",
    "t, theta, f, u = freq_ctlr(\n",
    "    t,\n",
    "    nominal_freq=nominal_freq,\n",
    "    k_u=k_u,\n",
    "    k_theta=k_theta,\n",
    "    k_f=k_f,\n",
    "    max_step=max_step,\n",
    "    theta_0=theta_0,\n",
    "    f_0=f_0,\n",
    ")\n",
    "\n",
    "fig, (ax_freq, ax_theta, ax_u) = plt.subplots(3, 1, figsize=(6, 8), sharex=True)\n",
    "ax_freq.plot(t, f)\n",
    "ax_freq.set_title(\"Frequency\")\n",
    "ax_freq.set_ylabel(\"f\")\n",
    "\n",
    "ax_theta.plot(t, theta)\n",
    "ax_theta.set_title(\"Phase\")\n",
    "ax_theta.set_ylabel(\"θ\")\n",
    "ax_theta.set_xlabel(\"t\")\n",
    "\n",
    "ax_u.plot(t, u)\n",
    "ax_u.set_title(\"Input\")\n",
    "ax_u.set_xlabel(\"t\");"
   ]
  }
 ],
 "metadata": {
  "kernelspec": {
   "display_name": "Python 3 (ipykernel)",
   "language": "python",
   "name": "python3"
  },
  "language_info": {
   "codemirror_mode": {
    "name": "ipython",
    "version": 3
   },
   "file_extension": ".py",
   "mimetype": "text/x-python",
   "name": "python",
   "nbconvert_exporter": "python",
   "pygments_lexer": "ipython3",
   "version": "3.11.6"
  }
 },
 "nbformat": 4,
 "nbformat_minor": 5
}
